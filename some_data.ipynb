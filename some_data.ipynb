{
 "cells": [
  {
   "cell_type": "code",
   "execution_count": 1,
   "id": "7a40f5c1-582a-4095-b43f-b2c2b00f0e5f",
   "metadata": {},
   "outputs": [],
   "source": [
    "# import the required packages\n",
    "import numpy as np\n",
    "import pandas as pd\n",
    "import matplotlib.pyplot as plt\n",
    "import seaborn as sb\n",
    "\n",
    "%matplotlib inline"
   ]
  },
  {
   "cell_type": "code",
   "execution_count": 2,
   "id": "1288f772-749e-4404-a354-af24b202a5ed",
   "metadata": {},
   "outputs": [],
   "source": [
    "some_data = pd.read_csv('some_data.csv')"
   ]
  },
  {
   "cell_type": "code",
   "execution_count": 3,
   "id": "85e4689e-19f8-48ab-96b3-4d62945fb754",
   "metadata": {},
   "outputs": [
    {
     "name": "stdout",
     "output_type": "stream",
     "text": [
      "<class 'pandas.core.frame.DataFrame'>\n",
      "RangeIndex: 48620 entries, 0 to 48619\n",
      "Data columns (total 18 columns):\n",
      " #   Column            Non-Null Count  Dtype  \n",
      "---  ------            --------------  -----  \n",
      " 0   Unnamed: 0        48620 non-null  int64  \n",
      " 1   order_id          48620 non-null  int64  \n",
      " 2   date              48620 non-null  object \n",
      " 3   time              48620 non-null  object \n",
      " 4   order_details_id  48620 non-null  int64  \n",
      " 5   pizza_id          48620 non-null  object \n",
      " 6   quantity          48620 non-null  int64  \n",
      " 7   pizza_type_id     48620 non-null  object \n",
      " 8   size              48620 non-null  object \n",
      " 9   price             48620 non-null  float64\n",
      " 10  name              48620 non-null  object \n",
      " 11  category          48620 non-null  object \n",
      " 12  ingredients       48620 non-null  object \n",
      " 13  day               48620 non-null  object \n",
      " 14  hour              48620 non-null  int64  \n",
      " 15  year              48620 non-null  int64  \n",
      " 16  month             48620 non-null  int64  \n",
      " 17  new_time_again    48620 non-null  object \n",
      "dtypes: float64(1), int64(7), object(10)\n",
      "memory usage: 6.7+ MB\n"
     ]
    }
   ],
   "source": [
    "some_data.info()"
   ]
  },
  {
   "cell_type": "code",
   "execution_count": null,
   "id": "4e7d78ba-06b6-44da-b4a4-b477f648cbc0",
   "metadata": {},
   "outputs": [],
   "source": []
  }
 ],
 "metadata": {
  "kernelspec": {
   "display_name": "Python 3 (ipykernel)",
   "language": "python",
   "name": "python3"
  },
  "language_info": {
   "codemirror_mode": {
    "name": "ipython",
    "version": 3
   },
   "file_extension": ".py",
   "mimetype": "text/x-python",
   "name": "python",
   "nbconvert_exporter": "python",
   "pygments_lexer": "ipython3",
   "version": "3.9.13"
  }
 },
 "nbformat": 4,
 "nbformat_minor": 5
}
