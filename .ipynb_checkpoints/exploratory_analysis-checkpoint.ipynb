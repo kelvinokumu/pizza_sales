{
 "cells": [
  {
   "cell_type": "code",
   "execution_count": 1,
   "id": "5be0fae9-5d26-432a-88d5-c9ee0f022f2f",
   "metadata": {},
   "outputs": [],
   "source": [
    "# import the required packages\n",
    "import numpy as np\n",
    "import pandas as pd\n",
    "import matplotlib.pyplot as plt\n",
    "import seaborn as sb\n",
    "\n",
    "%matplotlib inline"
   ]
  },
  {
   "cell_type": "code",
   "execution_count": 2,
   "id": "9b5098ca-8b7c-48aa-a143-eca90ea32849",
   "metadata": {},
   "outputs": [],
   "source": [
    "# load the data\n",
    "orders = pd.read_csv(\"orders.csv\")\n",
    "order_details = pd.read_csv(\"order_details.csv\")\n",
    "pizza_types = pd.read_csv(\"pizza_types.csv\", encoding= 'unicode_escape')\n",
    "pizzas = pd.read_csv(\"pizzas.csv\", encoding= 'unicode_escape')"
   ]
  },
  {
   "cell_type": "markdown",
   "id": "2046c5f7-b5db-4e6e-9453-cbe19f742fb0",
   "metadata": {},
   "source": [
    "## Merge the data into one dataframe"
   ]
  },
  {
   "cell_type": "code",
   "execution_count": 3,
   "id": "6e32b6a7-b556-47ea-8804-40b68c0f65d4",
   "metadata": {},
   "outputs": [],
   "source": [
    "new_df = pd.merge(orders, order_details, how='outer')"
   ]
  },
  {
   "cell_type": "code",
   "execution_count": 4,
   "id": "5fbcd3ef-6f83-40e6-90a3-0ed4fd3a8a94",
   "metadata": {
    "tags": []
   },
   "outputs": [],
   "source": [
    "new_df_pizza = pd.merge(pizzas, pizza_types, how='outer')"
   ]
  },
  {
   "cell_type": "code",
   "execution_count": 5,
   "id": "facd921c-ed29-4d54-b39a-fa324ba80429",
   "metadata": {},
   "outputs": [],
   "source": [
    "new_data = pd.merge(new_df, new_df_pizza, how='outer')"
   ]
  },
  {
   "cell_type": "code",
   "execution_count": 6,
   "id": "5ce80c3c-6101-42d7-a832-e836023dad5f",
   "metadata": {},
   "outputs": [
    {
     "data": {
      "text/html": [
       "<div>\n",
       "<style scoped>\n",
       "    .dataframe tbody tr th:only-of-type {\n",
       "        vertical-align: middle;\n",
       "    }\n",
       "\n",
       "    .dataframe tbody tr th {\n",
       "        vertical-align: top;\n",
       "    }\n",
       "\n",
       "    .dataframe thead th {\n",
       "        text-align: right;\n",
       "    }\n",
       "</style>\n",
       "<table border=\"1\" class=\"dataframe\">\n",
       "  <thead>\n",
       "    <tr style=\"text-align: right;\">\n",
       "      <th></th>\n",
       "      <th>order_id</th>\n",
       "      <th>date</th>\n",
       "      <th>time</th>\n",
       "      <th>order_details_id</th>\n",
       "      <th>pizza_id</th>\n",
       "      <th>quantity</th>\n",
       "      <th>pizza_type_id</th>\n",
       "      <th>size</th>\n",
       "      <th>price</th>\n",
       "      <th>name</th>\n",
       "      <th>category</th>\n",
       "      <th>ingredients</th>\n",
       "    </tr>\n",
       "  </thead>\n",
       "  <tbody>\n",
       "    <tr>\n",
       "      <th>0</th>\n",
       "      <td>1.0</td>\n",
       "      <td>2015-01-01</td>\n",
       "      <td>11:38:36</td>\n",
       "      <td>1.0</td>\n",
       "      <td>hawaiian_m</td>\n",
       "      <td>1.0</td>\n",
       "      <td>hawaiian</td>\n",
       "      <td>M</td>\n",
       "      <td>13.25</td>\n",
       "      <td>The Hawaiian Pizza</td>\n",
       "      <td>Classic</td>\n",
       "      <td>Sliced Ham, Pineapple, Mozzarella Cheese</td>\n",
       "    </tr>\n",
       "    <tr>\n",
       "      <th>1</th>\n",
       "      <td>77.0</td>\n",
       "      <td>2015-01-02</td>\n",
       "      <td>12:22:46</td>\n",
       "      <td>179.0</td>\n",
       "      <td>hawaiian_m</td>\n",
       "      <td>1.0</td>\n",
       "      <td>hawaiian</td>\n",
       "      <td>M</td>\n",
       "      <td>13.25</td>\n",
       "      <td>The Hawaiian Pizza</td>\n",
       "      <td>Classic</td>\n",
       "      <td>Sliced Ham, Pineapple, Mozzarella Cheese</td>\n",
       "    </tr>\n",
       "    <tr>\n",
       "      <th>2</th>\n",
       "      <td>146.0</td>\n",
       "      <td>2015-01-03</td>\n",
       "      <td>14:22:10</td>\n",
       "      <td>357.0</td>\n",
       "      <td>hawaiian_m</td>\n",
       "      <td>1.0</td>\n",
       "      <td>hawaiian</td>\n",
       "      <td>M</td>\n",
       "      <td>13.25</td>\n",
       "      <td>The Hawaiian Pizza</td>\n",
       "      <td>Classic</td>\n",
       "      <td>Sliced Ham, Pineapple, Mozzarella Cheese</td>\n",
       "    </tr>\n",
       "    <tr>\n",
       "      <th>3</th>\n",
       "      <td>163.0</td>\n",
       "      <td>2015-01-03</td>\n",
       "      <td>16:54:54</td>\n",
       "      <td>389.0</td>\n",
       "      <td>hawaiian_m</td>\n",
       "      <td>1.0</td>\n",
       "      <td>hawaiian</td>\n",
       "      <td>M</td>\n",
       "      <td>13.25</td>\n",
       "      <td>The Hawaiian Pizza</td>\n",
       "      <td>Classic</td>\n",
       "      <td>Sliced Ham, Pineapple, Mozzarella Cheese</td>\n",
       "    </tr>\n",
       "    <tr>\n",
       "      <th>4</th>\n",
       "      <td>247.0</td>\n",
       "      <td>2015-01-04</td>\n",
       "      <td>20:55:29</td>\n",
       "      <td>568.0</td>\n",
       "      <td>hawaiian_m</td>\n",
       "      <td>1.0</td>\n",
       "      <td>hawaiian</td>\n",
       "      <td>M</td>\n",
       "      <td>13.25</td>\n",
       "      <td>The Hawaiian Pizza</td>\n",
       "      <td>Classic</td>\n",
       "      <td>Sliced Ham, Pineapple, Mozzarella Cheese</td>\n",
       "    </tr>\n",
       "  </tbody>\n",
       "</table>\n",
       "</div>"
      ],
      "text/plain": [
       "   order_id        date      time  order_details_id    pizza_id  quantity  \\\n",
       "0       1.0  2015-01-01  11:38:36               1.0  hawaiian_m       1.0   \n",
       "1      77.0  2015-01-02  12:22:46             179.0  hawaiian_m       1.0   \n",
       "2     146.0  2015-01-03  14:22:10             357.0  hawaiian_m       1.0   \n",
       "3     163.0  2015-01-03  16:54:54             389.0  hawaiian_m       1.0   \n",
       "4     247.0  2015-01-04  20:55:29             568.0  hawaiian_m       1.0   \n",
       "\n",
       "  pizza_type_id size  price                name category  \\\n",
       "0      hawaiian    M  13.25  The Hawaiian Pizza  Classic   \n",
       "1      hawaiian    M  13.25  The Hawaiian Pizza  Classic   \n",
       "2      hawaiian    M  13.25  The Hawaiian Pizza  Classic   \n",
       "3      hawaiian    M  13.25  The Hawaiian Pizza  Classic   \n",
       "4      hawaiian    M  13.25  The Hawaiian Pizza  Classic   \n",
       "\n",
       "                                ingredients  \n",
       "0  Sliced Ham, Pineapple, Mozzarella Cheese  \n",
       "1  Sliced Ham, Pineapple, Mozzarella Cheese  \n",
       "2  Sliced Ham, Pineapple, Mozzarella Cheese  \n",
       "3  Sliced Ham, Pineapple, Mozzarella Cheese  \n",
       "4  Sliced Ham, Pineapple, Mozzarella Cheese  "
      ]
     },
     "execution_count": 6,
     "metadata": {},
     "output_type": "execute_result"
    }
   ],
   "source": [
    "new_data.head()"
   ]
  },
  {
   "cell_type": "code",
   "execution_count": 7,
   "id": "0ae37ec0-7d56-4f3f-87c8-53986deae384",
   "metadata": {},
   "outputs": [
    {
     "name": "stdout",
     "output_type": "stream",
     "text": [
      "<class 'pandas.core.frame.DataFrame'>\n",
      "Int64Index: 48625 entries, 0 to 48624\n",
      "Data columns (total 12 columns):\n",
      " #   Column            Non-Null Count  Dtype  \n",
      "---  ------            --------------  -----  \n",
      " 0   order_id          48620 non-null  float64\n",
      " 1   date              48620 non-null  object \n",
      " 2   time              48620 non-null  object \n",
      " 3   order_details_id  48620 non-null  float64\n",
      " 4   pizza_id          48625 non-null  object \n",
      " 5   quantity          48620 non-null  float64\n",
      " 6   pizza_type_id     48625 non-null  object \n",
      " 7   size              48625 non-null  object \n",
      " 8   price             48625 non-null  float64\n",
      " 9   name              48625 non-null  object \n",
      " 10  category          48625 non-null  object \n",
      " 11  ingredients       48625 non-null  object \n",
      "dtypes: float64(4), object(8)\n",
      "memory usage: 4.8+ MB\n"
     ]
    }
   ],
   "source": [
    "new_data.info()"
   ]
  },
  {
   "cell_type": "code",
   "execution_count": 8,
   "id": "66962d19-2139-4d6f-ace5-41dfb1a572bb",
   "metadata": {},
   "outputs": [
    {
     "data": {
      "text/plain": [
       "order_id            5\n",
       "date                5\n",
       "time                5\n",
       "order_details_id    5\n",
       "pizza_id            0\n",
       "quantity            5\n",
       "pizza_type_id       0\n",
       "size                0\n",
       "price               0\n",
       "name                0\n",
       "category            0\n",
       "ingredients         0\n",
       "dtype: int64"
      ]
     },
     "execution_count": 8,
     "metadata": {},
     "output_type": "execute_result"
    }
   ],
   "source": [
    "new_data.isnull().sum()"
   ]
  },
  {
   "cell_type": "code",
   "execution_count": 9,
   "id": "29aaac62-2db7-4dce-96c8-4b2bfcca3285",
   "metadata": {},
   "outputs": [],
   "source": [
    "# drop null values\n",
    "new_data = new_data.dropna()"
   ]
  },
  {
   "cell_type": "code",
   "execution_count": 10,
   "id": "6b657fc5-c457-4aac-bace-d6ff8be1a5f4",
   "metadata": {},
   "outputs": [
    {
     "data": {
      "text/plain": [
       "order_id            0\n",
       "date                0\n",
       "time                0\n",
       "order_details_id    0\n",
       "pizza_id            0\n",
       "quantity            0\n",
       "pizza_type_id       0\n",
       "size                0\n",
       "price               0\n",
       "name                0\n",
       "category            0\n",
       "ingredients         0\n",
       "dtype: int64"
      ]
     },
     "execution_count": 10,
     "metadata": {},
     "output_type": "execute_result"
    }
   ],
   "source": [
    "# confirm null values are dropped\n",
    "new_data.isnull().sum()"
   ]
  },
  {
   "cell_type": "code",
   "execution_count": 11,
   "id": "a47ff36a-9368-4a87-9726-4a14265657bb",
   "metadata": {},
   "outputs": [
    {
     "name": "stdout",
     "output_type": "stream",
     "text": [
      "<class 'pandas.core.frame.DataFrame'>\n",
      "Int64Index: 48620 entries, 0 to 48619\n",
      "Data columns (total 12 columns):\n",
      " #   Column            Non-Null Count  Dtype  \n",
      "---  ------            --------------  -----  \n",
      " 0   order_id          48620 non-null  float64\n",
      " 1   date              48620 non-null  object \n",
      " 2   time              48620 non-null  object \n",
      " 3   order_details_id  48620 non-null  float64\n",
      " 4   pizza_id          48620 non-null  object \n",
      " 5   quantity          48620 non-null  float64\n",
      " 6   pizza_type_id     48620 non-null  object \n",
      " 7   size              48620 non-null  object \n",
      " 8   price             48620 non-null  float64\n",
      " 9   name              48620 non-null  object \n",
      " 10  category          48620 non-null  object \n",
      " 11  ingredients       48620 non-null  object \n",
      "dtypes: float64(4), object(8)\n",
      "memory usage: 4.8+ MB\n"
     ]
    }
   ],
   "source": [
    "# confirm no null values\n",
    "new_data.info()"
   ]
  },
  {
   "cell_type": "markdown",
   "id": "cd18cb6a-2d1f-4a0d-9724-ed9c69a0719a",
   "metadata": {},
   "source": [
    "# Get the data to the correct data types"
   ]
  },
  {
   "cell_type": "code",
   "execution_count": 12,
   "id": "90519354-33cb-42ee-a3d8-5df31cc14ac1",
   "metadata": {},
   "outputs": [],
   "source": [
    "# change to int\n",
    "new_data.order_id = new_data.order_id.astype(int)\n",
    "new_data.order_details_id = new_data.order_details_id.astype(int)\n",
    "new_data.quantity = new_data.quantity.astype(int)"
   ]
  },
  {
   "cell_type": "code",
   "execution_count": 13,
   "id": "1f8ab011-fe01-4b4f-a281-fdec37d4e170",
   "metadata": {},
   "outputs": [],
   "source": [
    "# change column from object to date\n",
    "new_data.date = pd.to_datetime(new_data.date)"
   ]
  },
  {
   "cell_type": "code",
   "execution_count": 14,
   "id": "e74ac4ec-f590-45b8-8705-ff7c4ef079fb",
   "metadata": {},
   "outputs": [],
   "source": [
    "new_data.category = new_data.category.astype('category')"
   ]
  },
  {
   "cell_type": "code",
   "execution_count": 15,
   "id": "4b2b1b64-383f-4d55-ac63-f11baef4dc81",
   "metadata": {},
   "outputs": [],
   "source": [
    "new_data['size'] = new_data['size'].astype('category')"
   ]
  },
  {
   "cell_type": "code",
   "execution_count": 16,
   "id": "16a28ce2-4e88-49ed-87dd-a6637b5ad419",
   "metadata": {},
   "outputs": [
    {
     "name": "stdout",
     "output_type": "stream",
     "text": [
      "<class 'pandas.core.frame.DataFrame'>\n",
      "Int64Index: 48620 entries, 0 to 48619\n",
      "Data columns (total 12 columns):\n",
      " #   Column            Non-Null Count  Dtype         \n",
      "---  ------            --------------  -----         \n",
      " 0   order_id          48620 non-null  int64         \n",
      " 1   date              48620 non-null  datetime64[ns]\n",
      " 2   time              48620 non-null  object        \n",
      " 3   order_details_id  48620 non-null  int64         \n",
      " 4   pizza_id          48620 non-null  object        \n",
      " 5   quantity          48620 non-null  int64         \n",
      " 6   pizza_type_id     48620 non-null  object        \n",
      " 7   size              48620 non-null  category      \n",
      " 8   price             48620 non-null  float64       \n",
      " 9   name              48620 non-null  object        \n",
      " 10  category          48620 non-null  category      \n",
      " 11  ingredients       48620 non-null  object        \n",
      "dtypes: category(2), datetime64[ns](1), float64(1), int64(3), object(5)\n",
      "memory usage: 4.2+ MB\n"
     ]
    }
   ],
   "source": [
    "new_data.info()"
   ]
  },
  {
   "cell_type": "code",
   "execution_count": 17,
   "id": "b9b24bb2-bae8-43f0-8e9e-a71c633667db",
   "metadata": {},
   "outputs": [
    {
     "data": {
      "text/html": [
       "<div>\n",
       "<style scoped>\n",
       "    .dataframe tbody tr th:only-of-type {\n",
       "        vertical-align: middle;\n",
       "    }\n",
       "\n",
       "    .dataframe tbody tr th {\n",
       "        vertical-align: top;\n",
       "    }\n",
       "\n",
       "    .dataframe thead th {\n",
       "        text-align: right;\n",
       "    }\n",
       "</style>\n",
       "<table border=\"1\" class=\"dataframe\">\n",
       "  <thead>\n",
       "    <tr style=\"text-align: right;\">\n",
       "      <th></th>\n",
       "      <th>order_id</th>\n",
       "      <th>date</th>\n",
       "      <th>time</th>\n",
       "      <th>order_details_id</th>\n",
       "      <th>pizza_id</th>\n",
       "      <th>quantity</th>\n",
       "      <th>pizza_type_id</th>\n",
       "      <th>size</th>\n",
       "      <th>price</th>\n",
       "      <th>name</th>\n",
       "      <th>category</th>\n",
       "      <th>ingredients</th>\n",
       "    </tr>\n",
       "  </thead>\n",
       "  <tbody>\n",
       "    <tr>\n",
       "      <th>0</th>\n",
       "      <td>1</td>\n",
       "      <td>2015-01-01</td>\n",
       "      <td>11:38:36</td>\n",
       "      <td>1</td>\n",
       "      <td>hawaiian_m</td>\n",
       "      <td>1</td>\n",
       "      <td>hawaiian</td>\n",
       "      <td>M</td>\n",
       "      <td>13.25</td>\n",
       "      <td>The Hawaiian Pizza</td>\n",
       "      <td>Classic</td>\n",
       "      <td>Sliced Ham, Pineapple, Mozzarella Cheese</td>\n",
       "    </tr>\n",
       "    <tr>\n",
       "      <th>1</th>\n",
       "      <td>77</td>\n",
       "      <td>2015-01-02</td>\n",
       "      <td>12:22:46</td>\n",
       "      <td>179</td>\n",
       "      <td>hawaiian_m</td>\n",
       "      <td>1</td>\n",
       "      <td>hawaiian</td>\n",
       "      <td>M</td>\n",
       "      <td>13.25</td>\n",
       "      <td>The Hawaiian Pizza</td>\n",
       "      <td>Classic</td>\n",
       "      <td>Sliced Ham, Pineapple, Mozzarella Cheese</td>\n",
       "    </tr>\n",
       "    <tr>\n",
       "      <th>2</th>\n",
       "      <td>146</td>\n",
       "      <td>2015-01-03</td>\n",
       "      <td>14:22:10</td>\n",
       "      <td>357</td>\n",
       "      <td>hawaiian_m</td>\n",
       "      <td>1</td>\n",
       "      <td>hawaiian</td>\n",
       "      <td>M</td>\n",
       "      <td>13.25</td>\n",
       "      <td>The Hawaiian Pizza</td>\n",
       "      <td>Classic</td>\n",
       "      <td>Sliced Ham, Pineapple, Mozzarella Cheese</td>\n",
       "    </tr>\n",
       "    <tr>\n",
       "      <th>3</th>\n",
       "      <td>163</td>\n",
       "      <td>2015-01-03</td>\n",
       "      <td>16:54:54</td>\n",
       "      <td>389</td>\n",
       "      <td>hawaiian_m</td>\n",
       "      <td>1</td>\n",
       "      <td>hawaiian</td>\n",
       "      <td>M</td>\n",
       "      <td>13.25</td>\n",
       "      <td>The Hawaiian Pizza</td>\n",
       "      <td>Classic</td>\n",
       "      <td>Sliced Ham, Pineapple, Mozzarella Cheese</td>\n",
       "    </tr>\n",
       "    <tr>\n",
       "      <th>4</th>\n",
       "      <td>247</td>\n",
       "      <td>2015-01-04</td>\n",
       "      <td>20:55:29</td>\n",
       "      <td>568</td>\n",
       "      <td>hawaiian_m</td>\n",
       "      <td>1</td>\n",
       "      <td>hawaiian</td>\n",
       "      <td>M</td>\n",
       "      <td>13.25</td>\n",
       "      <td>The Hawaiian Pizza</td>\n",
       "      <td>Classic</td>\n",
       "      <td>Sliced Ham, Pineapple, Mozzarella Cheese</td>\n",
       "    </tr>\n",
       "  </tbody>\n",
       "</table>\n",
       "</div>"
      ],
      "text/plain": [
       "   order_id       date      time  order_details_id    pizza_id  quantity  \\\n",
       "0         1 2015-01-01  11:38:36                 1  hawaiian_m         1   \n",
       "1        77 2015-01-02  12:22:46               179  hawaiian_m         1   \n",
       "2       146 2015-01-03  14:22:10               357  hawaiian_m         1   \n",
       "3       163 2015-01-03  16:54:54               389  hawaiian_m         1   \n",
       "4       247 2015-01-04  20:55:29               568  hawaiian_m         1   \n",
       "\n",
       "  pizza_type_id size  price                name category  \\\n",
       "0      hawaiian    M  13.25  The Hawaiian Pizza  Classic   \n",
       "1      hawaiian    M  13.25  The Hawaiian Pizza  Classic   \n",
       "2      hawaiian    M  13.25  The Hawaiian Pizza  Classic   \n",
       "3      hawaiian    M  13.25  The Hawaiian Pizza  Classic   \n",
       "4      hawaiian    M  13.25  The Hawaiian Pizza  Classic   \n",
       "\n",
       "                                ingredients  \n",
       "0  Sliced Ham, Pineapple, Mozzarella Cheese  \n",
       "1  Sliced Ham, Pineapple, Mozzarella Cheese  \n",
       "2  Sliced Ham, Pineapple, Mozzarella Cheese  \n",
       "3  Sliced Ham, Pineapple, Mozzarella Cheese  \n",
       "4  Sliced Ham, Pineapple, Mozzarella Cheese  "
      ]
     },
     "execution_count": 17,
     "metadata": {},
     "output_type": "execute_result"
    }
   ],
   "source": [
    "new_data.head()"
   ]
  },
  {
   "cell_type": "code",
   "execution_count": 18,
   "id": "a5a17e3a-91e1-4e08-89a0-93f896ea65eb",
   "metadata": {},
   "outputs": [
    {
     "data": {
      "text/plain": [
       "size\n",
       "L      18526\n",
       "M      15385\n",
       "S      14137\n",
       "XL       544\n",
       "XXL       28\n",
       "Name: size, dtype: int64"
      ]
     },
     "execution_count": 18,
     "metadata": {},
     "output_type": "execute_result"
    }
   ],
   "source": [
    "new_data.groupby(['size'])['size'].agg('count')"
   ]
  },
  {
   "cell_type": "code",
   "execution_count": 19,
   "id": "bac59e84-58d5-4414-869e-870450040854",
   "metadata": {
    "tags": []
   },
   "outputs": [],
   "source": [
    "# add a column for day of the week\n",
    "new_data[\"day\"] = new_data[\"date\"].dt.day_name()"
   ]
  },
  {
   "cell_type": "code",
   "execution_count": 20,
   "id": "1889a19f-c8fa-4701-8f26-f79042ba630f",
   "metadata": {},
   "outputs": [],
   "source": [
    "# change column time from object to datetime\n",
    "new_data.time = pd.to_datetime(new_data.time)"
   ]
  },
  {
   "cell_type": "code",
   "execution_count": 21,
   "id": "433173a3-937c-4d19-a378-548bc848dd6b",
   "metadata": {},
   "outputs": [
    {
     "name": "stdout",
     "output_type": "stream",
     "text": [
      "<class 'pandas.core.frame.DataFrame'>\n",
      "Int64Index: 48620 entries, 0 to 48619\n",
      "Data columns (total 13 columns):\n",
      " #   Column            Non-Null Count  Dtype         \n",
      "---  ------            --------------  -----         \n",
      " 0   order_id          48620 non-null  int64         \n",
      " 1   date              48620 non-null  datetime64[ns]\n",
      " 2   time              48620 non-null  datetime64[ns]\n",
      " 3   order_details_id  48620 non-null  int64         \n",
      " 4   pizza_id          48620 non-null  object        \n",
      " 5   quantity          48620 non-null  int64         \n",
      " 6   pizza_type_id     48620 non-null  object        \n",
      " 7   size              48620 non-null  category      \n",
      " 8   price             48620 non-null  float64       \n",
      " 9   name              48620 non-null  object        \n",
      " 10  category          48620 non-null  category      \n",
      " 11  ingredients       48620 non-null  object        \n",
      " 12  day               48620 non-null  object        \n",
      "dtypes: category(2), datetime64[ns](2), float64(1), int64(3), object(5)\n",
      "memory usage: 4.5+ MB\n"
     ]
    }
   ],
   "source": [
    "new_data.info()"
   ]
  },
  {
   "cell_type": "code",
   "execution_count": 22,
   "id": "a2c06ce5-78ca-47d9-a72a-7468705e18ae",
   "metadata": {},
   "outputs": [],
   "source": [
    "# add a column to get the time in hours\n",
    "new_data[\"hour\"] = new_data[\"time\"].dt.hour"
   ]
  },
  {
   "cell_type": "code",
   "execution_count": 23,
   "id": "18339266-cee9-4b72-9972-f14fc6fa5024",
   "metadata": {},
   "outputs": [],
   "source": [
    "# add a column to get the time in hours\n",
    "new_data[\"new_time_again\"] = pd.to_datetime(new_data[\"time\"], format='%H:%M').dt.time"
   ]
  },
  {
   "cell_type": "code",
   "execution_count": 24,
   "id": "51b37850-4f57-4fa9-a226-b9c74f5e843e",
   "metadata": {},
   "outputs": [],
   "source": [
    "new_data['year'] = new_data['date'].dt.year"
   ]
  },
  {
   "cell_type": "code",
   "execution_count": 25,
   "id": "712f13bd-6e0a-442d-9d9a-e38170d1f981",
   "metadata": {},
   "outputs": [],
   "source": [
    "new_data['month'] = new_data['date'].dt.month"
   ]
  },
  {
   "cell_type": "code",
   "execution_count": 26,
   "id": "27a8d3ce-e975-4d08-a16e-3d8ef2c4f31d",
   "metadata": {},
   "outputs": [
    {
     "data": {
      "text/html": [
       "<div>\n",
       "<style scoped>\n",
       "    .dataframe tbody tr th:only-of-type {\n",
       "        vertical-align: middle;\n",
       "    }\n",
       "\n",
       "    .dataframe tbody tr th {\n",
       "        vertical-align: top;\n",
       "    }\n",
       "\n",
       "    .dataframe thead th {\n",
       "        text-align: right;\n",
       "    }\n",
       "</style>\n",
       "<table border=\"1\" class=\"dataframe\">\n",
       "  <thead>\n",
       "    <tr style=\"text-align: right;\">\n",
       "      <th></th>\n",
       "      <th>order_id</th>\n",
       "      <th>date</th>\n",
       "      <th>time</th>\n",
       "      <th>order_details_id</th>\n",
       "      <th>pizza_id</th>\n",
       "      <th>quantity</th>\n",
       "      <th>pizza_type_id</th>\n",
       "      <th>size</th>\n",
       "      <th>price</th>\n",
       "      <th>name</th>\n",
       "      <th>category</th>\n",
       "      <th>ingredients</th>\n",
       "      <th>day</th>\n",
       "      <th>hour</th>\n",
       "      <th>new_time_again</th>\n",
       "      <th>year</th>\n",
       "      <th>month</th>\n",
       "    </tr>\n",
       "  </thead>\n",
       "  <tbody>\n",
       "    <tr>\n",
       "      <th>0</th>\n",
       "      <td>1</td>\n",
       "      <td>2015-01-01</td>\n",
       "      <td>2023-03-27 11:38:36</td>\n",
       "      <td>1</td>\n",
       "      <td>hawaiian_m</td>\n",
       "      <td>1</td>\n",
       "      <td>hawaiian</td>\n",
       "      <td>M</td>\n",
       "      <td>13.25</td>\n",
       "      <td>The Hawaiian Pizza</td>\n",
       "      <td>Classic</td>\n",
       "      <td>Sliced Ham, Pineapple, Mozzarella Cheese</td>\n",
       "      <td>Thursday</td>\n",
       "      <td>11</td>\n",
       "      <td>11:38:36</td>\n",
       "      <td>2015</td>\n",
       "      <td>1</td>\n",
       "    </tr>\n",
       "    <tr>\n",
       "      <th>1</th>\n",
       "      <td>77</td>\n",
       "      <td>2015-01-02</td>\n",
       "      <td>2023-03-27 12:22:46</td>\n",
       "      <td>179</td>\n",
       "      <td>hawaiian_m</td>\n",
       "      <td>1</td>\n",
       "      <td>hawaiian</td>\n",
       "      <td>M</td>\n",
       "      <td>13.25</td>\n",
       "      <td>The Hawaiian Pizza</td>\n",
       "      <td>Classic</td>\n",
       "      <td>Sliced Ham, Pineapple, Mozzarella Cheese</td>\n",
       "      <td>Friday</td>\n",
       "      <td>12</td>\n",
       "      <td>12:22:46</td>\n",
       "      <td>2015</td>\n",
       "      <td>1</td>\n",
       "    </tr>\n",
       "    <tr>\n",
       "      <th>2</th>\n",
       "      <td>146</td>\n",
       "      <td>2015-01-03</td>\n",
       "      <td>2023-03-27 14:22:10</td>\n",
       "      <td>357</td>\n",
       "      <td>hawaiian_m</td>\n",
       "      <td>1</td>\n",
       "      <td>hawaiian</td>\n",
       "      <td>M</td>\n",
       "      <td>13.25</td>\n",
       "      <td>The Hawaiian Pizza</td>\n",
       "      <td>Classic</td>\n",
       "      <td>Sliced Ham, Pineapple, Mozzarella Cheese</td>\n",
       "      <td>Saturday</td>\n",
       "      <td>14</td>\n",
       "      <td>14:22:10</td>\n",
       "      <td>2015</td>\n",
       "      <td>1</td>\n",
       "    </tr>\n",
       "    <tr>\n",
       "      <th>3</th>\n",
       "      <td>163</td>\n",
       "      <td>2015-01-03</td>\n",
       "      <td>2023-03-27 16:54:54</td>\n",
       "      <td>389</td>\n",
       "      <td>hawaiian_m</td>\n",
       "      <td>1</td>\n",
       "      <td>hawaiian</td>\n",
       "      <td>M</td>\n",
       "      <td>13.25</td>\n",
       "      <td>The Hawaiian Pizza</td>\n",
       "      <td>Classic</td>\n",
       "      <td>Sliced Ham, Pineapple, Mozzarella Cheese</td>\n",
       "      <td>Saturday</td>\n",
       "      <td>16</td>\n",
       "      <td>16:54:54</td>\n",
       "      <td>2015</td>\n",
       "      <td>1</td>\n",
       "    </tr>\n",
       "    <tr>\n",
       "      <th>4</th>\n",
       "      <td>247</td>\n",
       "      <td>2015-01-04</td>\n",
       "      <td>2023-03-27 20:55:29</td>\n",
       "      <td>568</td>\n",
       "      <td>hawaiian_m</td>\n",
       "      <td>1</td>\n",
       "      <td>hawaiian</td>\n",
       "      <td>M</td>\n",
       "      <td>13.25</td>\n",
       "      <td>The Hawaiian Pizza</td>\n",
       "      <td>Classic</td>\n",
       "      <td>Sliced Ham, Pineapple, Mozzarella Cheese</td>\n",
       "      <td>Sunday</td>\n",
       "      <td>20</td>\n",
       "      <td>20:55:29</td>\n",
       "      <td>2015</td>\n",
       "      <td>1</td>\n",
       "    </tr>\n",
       "  </tbody>\n",
       "</table>\n",
       "</div>"
      ],
      "text/plain": [
       "   order_id       date                time  order_details_id    pizza_id  \\\n",
       "0         1 2015-01-01 2023-03-27 11:38:36                 1  hawaiian_m   \n",
       "1        77 2015-01-02 2023-03-27 12:22:46               179  hawaiian_m   \n",
       "2       146 2015-01-03 2023-03-27 14:22:10               357  hawaiian_m   \n",
       "3       163 2015-01-03 2023-03-27 16:54:54               389  hawaiian_m   \n",
       "4       247 2015-01-04 2023-03-27 20:55:29               568  hawaiian_m   \n",
       "\n",
       "   quantity pizza_type_id size  price                name category  \\\n",
       "0         1      hawaiian    M  13.25  The Hawaiian Pizza  Classic   \n",
       "1         1      hawaiian    M  13.25  The Hawaiian Pizza  Classic   \n",
       "2         1      hawaiian    M  13.25  The Hawaiian Pizza  Classic   \n",
       "3         1      hawaiian    M  13.25  The Hawaiian Pizza  Classic   \n",
       "4         1      hawaiian    M  13.25  The Hawaiian Pizza  Classic   \n",
       "\n",
       "                                ingredients       day  hour new_time_again  \\\n",
       "0  Sliced Ham, Pineapple, Mozzarella Cheese  Thursday    11       11:38:36   \n",
       "1  Sliced Ham, Pineapple, Mozzarella Cheese    Friday    12       12:22:46   \n",
       "2  Sliced Ham, Pineapple, Mozzarella Cheese  Saturday    14       14:22:10   \n",
       "3  Sliced Ham, Pineapple, Mozzarella Cheese  Saturday    16       16:54:54   \n",
       "4  Sliced Ham, Pineapple, Mozzarella Cheese    Sunday    20       20:55:29   \n",
       "\n",
       "   year  month  \n",
       "0  2015      1  \n",
       "1  2015      1  \n",
       "2  2015      1  \n",
       "3  2015      1  \n",
       "4  2015      1  "
      ]
     },
     "execution_count": 26,
     "metadata": {},
     "output_type": "execute_result"
    }
   ],
   "source": [
    "new_data.head()"
   ]
  },
  {
   "cell_type": "code",
   "execution_count": 27,
   "id": "22eb5f42-c880-49ba-bc29-5a5e40b27114",
   "metadata": {},
   "outputs": [
    {
     "name": "stdout",
     "output_type": "stream",
     "text": [
      "<class 'pandas.core.frame.DataFrame'>\n",
      "Int64Index: 48620 entries, 0 to 48619\n",
      "Data columns (total 17 columns):\n",
      " #   Column            Non-Null Count  Dtype         \n",
      "---  ------            --------------  -----         \n",
      " 0   order_id          48620 non-null  int64         \n",
      " 1   date              48620 non-null  datetime64[ns]\n",
      " 2   time              48620 non-null  datetime64[ns]\n",
      " 3   order_details_id  48620 non-null  int64         \n",
      " 4   pizza_id          48620 non-null  object        \n",
      " 5   quantity          48620 non-null  int64         \n",
      " 6   pizza_type_id     48620 non-null  object        \n",
      " 7   size              48620 non-null  category      \n",
      " 8   price             48620 non-null  float64       \n",
      " 9   name              48620 non-null  object        \n",
      " 10  category          48620 non-null  category      \n",
      " 11  ingredients       48620 non-null  object        \n",
      " 12  day               48620 non-null  object        \n",
      " 13  hour              48620 non-null  int64         \n",
      " 14  new_time_again    48620 non-null  object        \n",
      " 15  year              48620 non-null  int64         \n",
      " 16  month             48620 non-null  int64         \n",
      "dtypes: category(2), datetime64[ns](2), float64(1), int64(6), object(6)\n",
      "memory usage: 6.0+ MB\n"
     ]
    }
   ],
   "source": [
    "new_data.info()"
   ]
  },
  {
   "cell_type": "code",
   "execution_count": 28,
   "id": "b644a9db-ca01-4ebe-9d98-5e10c90f44e7",
   "metadata": {},
   "outputs": [
    {
     "data": {
      "text/plain": [
       "order_id            21350\n",
       "date                  358\n",
       "time                16382\n",
       "order_details_id    48620\n",
       "pizza_id               91\n",
       "quantity                4\n",
       "pizza_type_id          32\n",
       "size                    5\n",
       "price                  25\n",
       "name                   32\n",
       "category                4\n",
       "ingredients            32\n",
       "day                     7\n",
       "hour                   15\n",
       "new_time_again      16382\n",
       "year                    1\n",
       "month                  12\n",
       "dtype: int64"
      ]
     },
     "execution_count": 28,
     "metadata": {},
     "output_type": "execute_result"
    }
   ],
   "source": [
    "new_data.nunique()"
   ]
  },
  {
   "cell_type": "code",
   "execution_count": 29,
   "id": "f3ed5520-98d4-4e2d-9ede-a2c2baf98bcf",
   "metadata": {},
   "outputs": [],
   "source": [
    "# save to new csv\n",
    "new_data.to_csv('data.csv', index=False)"
   ]
  },
  {
   "cell_type": "code",
   "execution_count": null,
   "id": "e0c3ca64-6e0e-4a30-a489-707b6aefa93f",
   "metadata": {},
   "outputs": [],
   "source": [
    "new_data.to_excel('data2.xls', index = False)"
   ]
  },
  {
   "cell_type": "code",
   "execution_count": null,
   "id": "678952a7-7139-4594-b400-c1cb11792127",
   "metadata": {},
   "outputs": [],
   "source": []
  }
 ],
 "metadata": {
  "kernelspec": {
   "display_name": "Python 3 (ipykernel)",
   "language": "python",
   "name": "python3"
  },
  "language_info": {
   "codemirror_mode": {
    "name": "ipython",
    "version": 3
   },
   "file_extension": ".py",
   "mimetype": "text/x-python",
   "name": "python",
   "nbconvert_exporter": "python",
   "pygments_lexer": "ipython3",
   "version": "3.9.13"
  }
 },
 "nbformat": 4,
 "nbformat_minor": 5
}
