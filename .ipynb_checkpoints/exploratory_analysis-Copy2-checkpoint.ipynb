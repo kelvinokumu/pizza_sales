{
 "cells": [
  {
   "cell_type": "code",
   "execution_count": 10,
   "id": "5be0fae9-5d26-432a-88d5-c9ee0f022f2f",
   "metadata": {},
   "outputs": [],
   "source": [
    "# import the required packages\n",
    "import numpy as np\n",
    "import pandas as pd\n",
    "import matplotlib.pyplot as plt\n",
    "import seaborn as sb\n",
    "\n",
    "%matplotlib inline"
   ]
  },
  {
   "cell_type": "code",
   "execution_count": 11,
   "id": "9b5098ca-8b7c-48aa-a143-eca90ea32849",
   "metadata": {},
   "outputs": [],
   "source": [
    "# load the data\n",
    "orders = pd.read_csv(\"orders.csv\")\n",
    "order_details = pd.read_csv(\"order_details.csv\")\n",
    "pizza_types = pd.read_csv(\"pizza_types.csv\", encoding= 'unicode_escape')\n",
    "pizzas = pd.read_csv(\"pizzas.csv\", encoding= 'unicode_escape')"
   ]
  },
  {
   "cell_type": "code",
   "execution_count": null,
   "id": "3aa46498-24e7-4840-80cc-be0c28e52bbd",
   "metadata": {},
   "outputs": [],
   "source": [
    "orders.info()"
   ]
  },
  {
   "cell_type": "code",
   "execution_count": null,
   "id": "0341355b-b90d-401d-9b5b-99269eb1bd22",
   "metadata": {},
   "outputs": [],
   "source": [
    "orders.head()"
   ]
  },
  {
   "cell_type": "code",
   "execution_count": null,
   "id": "7a19301c-b83a-4f42-a0e6-9fe0d3073bf4",
   "metadata": {},
   "outputs": [],
   "source": [
    "# change column from object to date\n",
    "orders.date = pd.to_datetime(orders.date)"
   ]
  },
  {
   "cell_type": "code",
   "execution_count": null,
   "id": "80f5b433-1b50-410e-b86e-e6aa7992d141",
   "metadata": {},
   "outputs": [],
   "source": [
    "# add a column for day of the week\n",
    "orders[\"day\"] = orders[\"date\"].dt.day_name()"
   ]
  },
  {
   "cell_type": "code",
   "execution_count": null,
   "id": "3b765e19-a2c4-44ea-b30f-f71f00e0caab",
   "metadata": {},
   "outputs": [],
   "source": [
    "orders.head()"
   ]
  },
  {
   "cell_type": "code",
   "execution_count": null,
   "id": "8ad38e20-580a-426b-8bf9-c1570d8331f6",
   "metadata": {},
   "outputs": [],
   "source": [
    "orders.info()"
   ]
  },
  {
   "cell_type": "code",
   "execution_count": null,
   "id": "d0b1b39d-4540-4b2c-9057-ebdbe651f2c0",
   "metadata": {},
   "outputs": [],
   "source": [
    "# change column from object to datetime\n",
    "orders.time = pd.to_datetime(orders['time'], format='%H:%M').dt.time"
   ]
  },
  {
   "cell_type": "code",
   "execution_count": null,
   "id": "c1828609-b3fd-4c5b-9f64-4c6340e4e2d4",
   "metadata": {},
   "outputs": [],
   "source": [
    "orders.info()"
   ]
  },
  {
   "cell_type": "code",
   "execution_count": null,
   "id": "ac129ca9-c12c-42ec-903b-25488d6b8409",
   "metadata": {},
   "outputs": [],
   "source": [
    "# add a column to get the time in hours\n",
    "orders[\"hour\"] = orders[\"time\"].dt.hour"
   ]
  },
  {
   "cell_type": "code",
   "execution_count": null,
   "id": "2f547d71-529b-41a1-9520-0719f6529ecd",
   "metadata": {},
   "outputs": [],
   "source": [
    "orders.info()"
   ]
  },
  {
   "cell_type": "code",
   "execution_count": null,
   "id": "a36013f0-eb5e-47ac-8819-2d6dcba5b504",
   "metadata": {},
   "outputs": [],
   "source": [
    "orders.head()"
   ]
  },
  {
   "cell_type": "code",
   "execution_count": null,
   "id": "ea8486c2-06af-43ed-b847-41276ac18969",
   "metadata": {},
   "outputs": [],
   "source": [
    "orders.info()"
   ]
  },
  {
   "cell_type": "code",
   "execution_count": 12,
   "id": "c1f4b3e5-85e7-45b8-90e6-e3f76cc33df2",
   "metadata": {},
   "outputs": [
    {
     "name": "stdout",
     "output_type": "stream",
     "text": [
      "<class 'pandas.core.frame.DataFrame'>\n",
      "RangeIndex: 48620 entries, 0 to 48619\n",
      "Data columns (total 4 columns):\n",
      " #   Column            Non-Null Count  Dtype \n",
      "---  ------            --------------  ----- \n",
      " 0   order_details_id  48620 non-null  int64 \n",
      " 1   order_id          48620 non-null  int64 \n",
      " 2   pizza_id          48620 non-null  object\n",
      " 3   quantity          48620 non-null  int64 \n",
      "dtypes: int64(3), object(1)\n",
      "memory usage: 1.5+ MB\n"
     ]
    }
   ],
   "source": [
    "order_details.info()"
   ]
  },
  {
   "cell_type": "code",
   "execution_count": 13,
   "id": "2291f187-42f6-4c1c-890c-d30ae796a3fa",
   "metadata": {},
   "outputs": [
    {
     "name": "stdout",
     "output_type": "stream",
     "text": [
      "<class 'pandas.core.frame.DataFrame'>\n",
      "RangeIndex: 32 entries, 0 to 31\n",
      "Data columns (total 4 columns):\n",
      " #   Column         Non-Null Count  Dtype \n",
      "---  ------         --------------  ----- \n",
      " 0   pizza_type_id  32 non-null     object\n",
      " 1   name           32 non-null     object\n",
      " 2   category       32 non-null     object\n",
      " 3   ingredients    32 non-null     object\n",
      "dtypes: object(4)\n",
      "memory usage: 1.1+ KB\n"
     ]
    }
   ],
   "source": [
    "pizza_types.info()"
   ]
  },
  {
   "cell_type": "code",
   "execution_count": 14,
   "id": "b1262915-3124-45d3-ad80-f32668c385bf",
   "metadata": {},
   "outputs": [
    {
     "name": "stdout",
     "output_type": "stream",
     "text": [
      "<class 'pandas.core.frame.DataFrame'>\n",
      "RangeIndex: 96 entries, 0 to 95\n",
      "Data columns (total 4 columns):\n",
      " #   Column         Non-Null Count  Dtype  \n",
      "---  ------         --------------  -----  \n",
      " 0   pizza_id       96 non-null     object \n",
      " 1   pizza_type_id  96 non-null     object \n",
      " 2   size           96 non-null     object \n",
      " 3   price          96 non-null     float64\n",
      "dtypes: float64(1), object(3)\n",
      "memory usage: 3.1+ KB\n"
     ]
    }
   ],
   "source": [
    "pizzas.info()"
   ]
  },
  {
   "cell_type": "code",
   "execution_count": null,
   "id": "36631979-fc25-4062-b5e9-5ab4c5118ec7",
   "metadata": {},
   "outputs": [],
   "source": [
    "orders.head()"
   ]
  },
  {
   "cell_type": "code",
   "execution_count": null,
   "id": "78160040-d81b-447a-a7f7-417b319c2d9d",
   "metadata": {},
   "outputs": [],
   "source": [
    "orders.shape"
   ]
  },
  {
   "cell_type": "code",
   "execution_count": null,
   "id": "e1df02cb-9488-4071-88cd-b150c7a5d04f",
   "metadata": {},
   "outputs": [],
   "source": [
    "# get number of unique values\n",
    "orders.nunique()"
   ]
  },
  {
   "cell_type": "code",
   "execution_count": null,
   "id": "30ed70ae-0a12-4fb8-ae5b-941cae3ea8c1",
   "metadata": {},
   "outputs": [],
   "source": [
    "# group by day of the week\n",
    "orders.groupby(['day'])['day'].agg('count')"
   ]
  },
  {
   "cell_type": "code",
   "execution_count": null,
   "id": "17308856-5a89-4c17-bd53-29813822e4c8",
   "metadata": {},
   "outputs": [],
   "source": [
    "# group the data into dates\n",
    "orders.groupby(['date'])['date'].agg('count')"
   ]
  },
  {
   "cell_type": "code",
   "execution_count": null,
   "id": "c8f9d3d7-dba7-479e-874d-3a2aa157701b",
   "metadata": {},
   "outputs": [],
   "source": [
    "orders.groupby(['time'])['time'].agg('count')"
   ]
  },
  {
   "cell_type": "code",
   "execution_count": null,
   "id": "50d57c89",
   "metadata": {},
   "outputs": [],
   "source": [
    "order_details.head()"
   ]
  },
  {
   "cell_type": "code",
   "execution_count": null,
   "id": "0018f974-158d-45c1-8eeb-ca5c08ad1770",
   "metadata": {},
   "outputs": [],
   "source": [
    "order_details.nunique()"
   ]
  },
  {
   "cell_type": "code",
   "execution_count": null,
   "id": "780086f2-41c0-46b1-831f-131e4d8f504e",
   "metadata": {},
   "outputs": [],
   "source": [
    "order_details.groupby(['quantity'])['quantity'].agg('count')"
   ]
  },
  {
   "cell_type": "code",
   "execution_count": null,
   "id": "f5137392",
   "metadata": {},
   "outputs": [],
   "source": [
    "pizza_types.head()"
   ]
  },
  {
   "cell_type": "code",
   "execution_count": 15,
   "id": "082ee582",
   "metadata": {},
   "outputs": [
    {
     "data": {
      "text/html": [
       "<div>\n",
       "<style scoped>\n",
       "    .dataframe tbody tr th:only-of-type {\n",
       "        vertical-align: middle;\n",
       "    }\n",
       "\n",
       "    .dataframe tbody tr th {\n",
       "        vertical-align: top;\n",
       "    }\n",
       "\n",
       "    .dataframe thead th {\n",
       "        text-align: right;\n",
       "    }\n",
       "</style>\n",
       "<table border=\"1\" class=\"dataframe\">\n",
       "  <thead>\n",
       "    <tr style=\"text-align: right;\">\n",
       "      <th></th>\n",
       "      <th>pizza_id</th>\n",
       "      <th>pizza_type_id</th>\n",
       "      <th>size</th>\n",
       "      <th>price</th>\n",
       "    </tr>\n",
       "  </thead>\n",
       "  <tbody>\n",
       "    <tr>\n",
       "      <th>0</th>\n",
       "      <td>bbq_ckn_s</td>\n",
       "      <td>bbq_ckn</td>\n",
       "      <td>S</td>\n",
       "      <td>12.75</td>\n",
       "    </tr>\n",
       "    <tr>\n",
       "      <th>1</th>\n",
       "      <td>bbq_ckn_m</td>\n",
       "      <td>bbq_ckn</td>\n",
       "      <td>M</td>\n",
       "      <td>16.75</td>\n",
       "    </tr>\n",
       "    <tr>\n",
       "      <th>2</th>\n",
       "      <td>bbq_ckn_l</td>\n",
       "      <td>bbq_ckn</td>\n",
       "      <td>L</td>\n",
       "      <td>20.75</td>\n",
       "    </tr>\n",
       "    <tr>\n",
       "      <th>3</th>\n",
       "      <td>cali_ckn_s</td>\n",
       "      <td>cali_ckn</td>\n",
       "      <td>S</td>\n",
       "      <td>12.75</td>\n",
       "    </tr>\n",
       "    <tr>\n",
       "      <th>4</th>\n",
       "      <td>cali_ckn_m</td>\n",
       "      <td>cali_ckn</td>\n",
       "      <td>M</td>\n",
       "      <td>16.75</td>\n",
       "    </tr>\n",
       "  </tbody>\n",
       "</table>\n",
       "</div>"
      ],
      "text/plain": [
       "     pizza_id pizza_type_id size  price\n",
       "0   bbq_ckn_s       bbq_ckn    S  12.75\n",
       "1   bbq_ckn_m       bbq_ckn    M  16.75\n",
       "2   bbq_ckn_l       bbq_ckn    L  20.75\n",
       "3  cali_ckn_s      cali_ckn    S  12.75\n",
       "4  cali_ckn_m      cali_ckn    M  16.75"
      ]
     },
     "execution_count": 15,
     "metadata": {},
     "output_type": "execute_result"
    }
   ],
   "source": [
    "pizzas.head()"
   ]
  },
  {
   "cell_type": "code",
   "execution_count": null,
   "id": "e646357f-28d6-47af-9362-92c6df5c2ece",
   "metadata": {},
   "outputs": [],
   "source": [
    "orders.isnull().sum()"
   ]
  },
  {
   "cell_type": "code",
   "execution_count": null,
   "id": "5125d170-4c18-4c52-b075-ce8551f19602",
   "metadata": {},
   "outputs": [],
   "source": [
    "# number of unique values in the date column\n",
    "orders.date.nunique()"
   ]
  },
  {
   "cell_type": "code",
   "execution_count": null,
   "id": "0a0a87ef-2b6a-4b3a-9d5e-5c41a2e6c290",
   "metadata": {},
   "outputs": [],
   "source": [
    "orders.time.nunique()"
   ]
  },
  {
   "cell_type": "code",
   "execution_count": null,
   "id": "7128dee8-5bf4-4afc-900d-dc07bd48b86f",
   "metadata": {},
   "outputs": [],
   "source": [
    "pizza_types.shape"
   ]
  },
  {
   "cell_type": "code",
   "execution_count": null,
   "id": "9eec32ad-dad7-45c2-b41b-2458063ce2ee",
   "metadata": {},
   "outputs": [],
   "source": [
    "pizzas.pizza_id.nunique()"
   ]
  },
  {
   "cell_type": "code",
   "execution_count": null,
   "id": "e228df06-b95a-4692-9678-df237a69729e",
   "metadata": {},
   "outputs": [],
   "source": []
  }
 ],
 "metadata": {
  "kernelspec": {
   "display_name": "Python 3 (ipykernel)",
   "language": "python",
   "name": "python3"
  },
  "language_info": {
   "codemirror_mode": {
    "name": "ipython",
    "version": 3
   },
   "file_extension": ".py",
   "mimetype": "text/x-python",
   "name": "python",
   "nbconvert_exporter": "python",
   "pygments_lexer": "ipython3",
   "version": "3.9.13"
  }
 },
 "nbformat": 4,
 "nbformat_minor": 5
}
