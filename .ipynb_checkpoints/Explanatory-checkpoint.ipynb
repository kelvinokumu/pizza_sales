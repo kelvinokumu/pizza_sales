{
 "cells": [
  {
   "cell_type": "code",
   "execution_count": 1,
   "id": "5fa5ff39-0c19-4777-8da7-c79cf7dc5c71",
   "metadata": {},
   "outputs": [],
   "source": [
    "# import the required packages\n",
    "import numpy as np\n",
    "import pandas as pd\n",
    "import matplotlib.pyplot as plt\n",
    "import seaborn as sb\n",
    "\n",
    "%matplotlib inline"
   ]
  },
  {
   "cell_type": "code",
   "execution_count": 2,
   "id": "a5d54c2b-e966-45e5-bd97-a6eef41ee05f",
   "metadata": {},
   "outputs": [],
   "source": [
    "data = pd.read_csv('data.csv')"
   ]
  },
  {
   "cell_type": "code",
   "execution_count": 3,
   "id": "98ba4b8f-26a5-43c9-832c-79280a481a46",
   "metadata": {},
   "outputs": [
    {
     "data": {
      "text/html": [
       "<div>\n",
       "<style scoped>\n",
       "    .dataframe tbody tr th:only-of-type {\n",
       "        vertical-align: middle;\n",
       "    }\n",
       "\n",
       "    .dataframe tbody tr th {\n",
       "        vertical-align: top;\n",
       "    }\n",
       "\n",
       "    .dataframe thead th {\n",
       "        text-align: right;\n",
       "    }\n",
       "</style>\n",
       "<table border=\"1\" class=\"dataframe\">\n",
       "  <thead>\n",
       "    <tr style=\"text-align: right;\">\n",
       "      <th></th>\n",
       "      <th>order_id</th>\n",
       "      <th>date</th>\n",
       "      <th>time</th>\n",
       "      <th>order_details_id</th>\n",
       "      <th>pizza_id</th>\n",
       "      <th>quantity</th>\n",
       "      <th>pizza_type_id</th>\n",
       "      <th>size</th>\n",
       "      <th>price</th>\n",
       "      <th>name</th>\n",
       "      <th>category</th>\n",
       "      <th>ingredients</th>\n",
       "      <th>day</th>\n",
       "      <th>hour</th>\n",
       "      <th>new_time_again</th>\n",
       "      <th>year</th>\n",
       "      <th>month</th>\n",
       "    </tr>\n",
       "  </thead>\n",
       "  <tbody>\n",
       "    <tr>\n",
       "      <th>0</th>\n",
       "      <td>1</td>\n",
       "      <td>2015-01-01</td>\n",
       "      <td>2023-03-27 11:38:36</td>\n",
       "      <td>1</td>\n",
       "      <td>hawaiian_m</td>\n",
       "      <td>1</td>\n",
       "      <td>hawaiian</td>\n",
       "      <td>M</td>\n",
       "      <td>13.25</td>\n",
       "      <td>The Hawaiian Pizza</td>\n",
       "      <td>Classic</td>\n",
       "      <td>Sliced Ham, Pineapple, Mozzarella Cheese</td>\n",
       "      <td>Thursday</td>\n",
       "      <td>11</td>\n",
       "      <td>11:38:36</td>\n",
       "      <td>2015</td>\n",
       "      <td>1</td>\n",
       "    </tr>\n",
       "    <tr>\n",
       "      <th>1</th>\n",
       "      <td>77</td>\n",
       "      <td>2015-01-02</td>\n",
       "      <td>2023-03-27 12:22:46</td>\n",
       "      <td>179</td>\n",
       "      <td>hawaiian_m</td>\n",
       "      <td>1</td>\n",
       "      <td>hawaiian</td>\n",
       "      <td>M</td>\n",
       "      <td>13.25</td>\n",
       "      <td>The Hawaiian Pizza</td>\n",
       "      <td>Classic</td>\n",
       "      <td>Sliced Ham, Pineapple, Mozzarella Cheese</td>\n",
       "      <td>Friday</td>\n",
       "      <td>12</td>\n",
       "      <td>12:22:46</td>\n",
       "      <td>2015</td>\n",
       "      <td>1</td>\n",
       "    </tr>\n",
       "    <tr>\n",
       "      <th>2</th>\n",
       "      <td>146</td>\n",
       "      <td>2015-01-03</td>\n",
       "      <td>2023-03-27 14:22:10</td>\n",
       "      <td>357</td>\n",
       "      <td>hawaiian_m</td>\n",
       "      <td>1</td>\n",
       "      <td>hawaiian</td>\n",
       "      <td>M</td>\n",
       "      <td>13.25</td>\n",
       "      <td>The Hawaiian Pizza</td>\n",
       "      <td>Classic</td>\n",
       "      <td>Sliced Ham, Pineapple, Mozzarella Cheese</td>\n",
       "      <td>Saturday</td>\n",
       "      <td>14</td>\n",
       "      <td>14:22:10</td>\n",
       "      <td>2015</td>\n",
       "      <td>1</td>\n",
       "    </tr>\n",
       "    <tr>\n",
       "      <th>3</th>\n",
       "      <td>163</td>\n",
       "      <td>2015-01-03</td>\n",
       "      <td>2023-03-27 16:54:54</td>\n",
       "      <td>389</td>\n",
       "      <td>hawaiian_m</td>\n",
       "      <td>1</td>\n",
       "      <td>hawaiian</td>\n",
       "      <td>M</td>\n",
       "      <td>13.25</td>\n",
       "      <td>The Hawaiian Pizza</td>\n",
       "      <td>Classic</td>\n",
       "      <td>Sliced Ham, Pineapple, Mozzarella Cheese</td>\n",
       "      <td>Saturday</td>\n",
       "      <td>16</td>\n",
       "      <td>16:54:54</td>\n",
       "      <td>2015</td>\n",
       "      <td>1</td>\n",
       "    </tr>\n",
       "    <tr>\n",
       "      <th>4</th>\n",
       "      <td>247</td>\n",
       "      <td>2015-01-04</td>\n",
       "      <td>2023-03-27 20:55:29</td>\n",
       "      <td>568</td>\n",
       "      <td>hawaiian_m</td>\n",
       "      <td>1</td>\n",
       "      <td>hawaiian</td>\n",
       "      <td>M</td>\n",
       "      <td>13.25</td>\n",
       "      <td>The Hawaiian Pizza</td>\n",
       "      <td>Classic</td>\n",
       "      <td>Sliced Ham, Pineapple, Mozzarella Cheese</td>\n",
       "      <td>Sunday</td>\n",
       "      <td>20</td>\n",
       "      <td>20:55:29</td>\n",
       "      <td>2015</td>\n",
       "      <td>1</td>\n",
       "    </tr>\n",
       "    <tr>\n",
       "      <th>5</th>\n",
       "      <td>314</td>\n",
       "      <td>2015-01-06</td>\n",
       "      <td>2023-03-27 12:11:58</td>\n",
       "      <td>716</td>\n",
       "      <td>hawaiian_m</td>\n",
       "      <td>1</td>\n",
       "      <td>hawaiian</td>\n",
       "      <td>M</td>\n",
       "      <td>13.25</td>\n",
       "      <td>The Hawaiian Pizza</td>\n",
       "      <td>Classic</td>\n",
       "      <td>Sliced Ham, Pineapple, Mozzarella Cheese</td>\n",
       "      <td>Tuesday</td>\n",
       "      <td>12</td>\n",
       "      <td>12:11:58</td>\n",
       "      <td>2015</td>\n",
       "      <td>1</td>\n",
       "    </tr>\n",
       "    <tr>\n",
       "      <th>6</th>\n",
       "      <td>351</td>\n",
       "      <td>2015-01-06</td>\n",
       "      <td>2023-03-27 17:37:29</td>\n",
       "      <td>806</td>\n",
       "      <td>hawaiian_m</td>\n",
       "      <td>1</td>\n",
       "      <td>hawaiian</td>\n",
       "      <td>M</td>\n",
       "      <td>13.25</td>\n",
       "      <td>The Hawaiian Pizza</td>\n",
       "      <td>Classic</td>\n",
       "      <td>Sliced Ham, Pineapple, Mozzarella Cheese</td>\n",
       "      <td>Tuesday</td>\n",
       "      <td>17</td>\n",
       "      <td>17:37:29</td>\n",
       "      <td>2015</td>\n",
       "      <td>1</td>\n",
       "    </tr>\n",
       "    <tr>\n",
       "      <th>7</th>\n",
       "      <td>377</td>\n",
       "      <td>2015-01-07</td>\n",
       "      <td>2023-03-27 12:03:18</td>\n",
       "      <td>856</td>\n",
       "      <td>hawaiian_m</td>\n",
       "      <td>1</td>\n",
       "      <td>hawaiian</td>\n",
       "      <td>M</td>\n",
       "      <td>13.25</td>\n",
       "      <td>The Hawaiian Pizza</td>\n",
       "      <td>Classic</td>\n",
       "      <td>Sliced Ham, Pineapple, Mozzarella Cheese</td>\n",
       "      <td>Wednesday</td>\n",
       "      <td>12</td>\n",
       "      <td>12:03:18</td>\n",
       "      <td>2015</td>\n",
       "      <td>1</td>\n",
       "    </tr>\n",
       "    <tr>\n",
       "      <th>8</th>\n",
       "      <td>558</td>\n",
       "      <td>2015-01-09</td>\n",
       "      <td>2023-03-27 20:51:10</td>\n",
       "      <td>1263</td>\n",
       "      <td>hawaiian_m</td>\n",
       "      <td>1</td>\n",
       "      <td>hawaiian</td>\n",
       "      <td>M</td>\n",
       "      <td>13.25</td>\n",
       "      <td>The Hawaiian Pizza</td>\n",
       "      <td>Classic</td>\n",
       "      <td>Sliced Ham, Pineapple, Mozzarella Cheese</td>\n",
       "      <td>Friday</td>\n",
       "      <td>20</td>\n",
       "      <td>20:51:10</td>\n",
       "      <td>2015</td>\n",
       "      <td>1</td>\n",
       "    </tr>\n",
       "    <tr>\n",
       "      <th>9</th>\n",
       "      <td>580</td>\n",
       "      <td>2015-01-10</td>\n",
       "      <td>2023-03-27 13:56:01</td>\n",
       "      <td>1312</td>\n",
       "      <td>hawaiian_m</td>\n",
       "      <td>1</td>\n",
       "      <td>hawaiian</td>\n",
       "      <td>M</td>\n",
       "      <td>13.25</td>\n",
       "      <td>The Hawaiian Pizza</td>\n",
       "      <td>Classic</td>\n",
       "      <td>Sliced Ham, Pineapple, Mozzarella Cheese</td>\n",
       "      <td>Saturday</td>\n",
       "      <td>13</td>\n",
       "      <td>13:56:01</td>\n",
       "      <td>2015</td>\n",
       "      <td>1</td>\n",
       "    </tr>\n",
       "  </tbody>\n",
       "</table>\n",
       "</div>"
      ],
      "text/plain": [
       "   order_id        date                 time  order_details_id    pizza_id  \\\n",
       "0         1  2015-01-01  2023-03-27 11:38:36                 1  hawaiian_m   \n",
       "1        77  2015-01-02  2023-03-27 12:22:46               179  hawaiian_m   \n",
       "2       146  2015-01-03  2023-03-27 14:22:10               357  hawaiian_m   \n",
       "3       163  2015-01-03  2023-03-27 16:54:54               389  hawaiian_m   \n",
       "4       247  2015-01-04  2023-03-27 20:55:29               568  hawaiian_m   \n",
       "5       314  2015-01-06  2023-03-27 12:11:58               716  hawaiian_m   \n",
       "6       351  2015-01-06  2023-03-27 17:37:29               806  hawaiian_m   \n",
       "7       377  2015-01-07  2023-03-27 12:03:18               856  hawaiian_m   \n",
       "8       558  2015-01-09  2023-03-27 20:51:10              1263  hawaiian_m   \n",
       "9       580  2015-01-10  2023-03-27 13:56:01              1312  hawaiian_m   \n",
       "\n",
       "   quantity pizza_type_id size  price                name category  \\\n",
       "0         1      hawaiian    M  13.25  The Hawaiian Pizza  Classic   \n",
       "1         1      hawaiian    M  13.25  The Hawaiian Pizza  Classic   \n",
       "2         1      hawaiian    M  13.25  The Hawaiian Pizza  Classic   \n",
       "3         1      hawaiian    M  13.25  The Hawaiian Pizza  Classic   \n",
       "4         1      hawaiian    M  13.25  The Hawaiian Pizza  Classic   \n",
       "5         1      hawaiian    M  13.25  The Hawaiian Pizza  Classic   \n",
       "6         1      hawaiian    M  13.25  The Hawaiian Pizza  Classic   \n",
       "7         1      hawaiian    M  13.25  The Hawaiian Pizza  Classic   \n",
       "8         1      hawaiian    M  13.25  The Hawaiian Pizza  Classic   \n",
       "9         1      hawaiian    M  13.25  The Hawaiian Pizza  Classic   \n",
       "\n",
       "                                ingredients        day  hour new_time_again  \\\n",
       "0  Sliced Ham, Pineapple, Mozzarella Cheese   Thursday    11       11:38:36   \n",
       "1  Sliced Ham, Pineapple, Mozzarella Cheese     Friday    12       12:22:46   \n",
       "2  Sliced Ham, Pineapple, Mozzarella Cheese   Saturday    14       14:22:10   \n",
       "3  Sliced Ham, Pineapple, Mozzarella Cheese   Saturday    16       16:54:54   \n",
       "4  Sliced Ham, Pineapple, Mozzarella Cheese     Sunday    20       20:55:29   \n",
       "5  Sliced Ham, Pineapple, Mozzarella Cheese    Tuesday    12       12:11:58   \n",
       "6  Sliced Ham, Pineapple, Mozzarella Cheese    Tuesday    17       17:37:29   \n",
       "7  Sliced Ham, Pineapple, Mozzarella Cheese  Wednesday    12       12:03:18   \n",
       "8  Sliced Ham, Pineapple, Mozzarella Cheese     Friday    20       20:51:10   \n",
       "9  Sliced Ham, Pineapple, Mozzarella Cheese   Saturday    13       13:56:01   \n",
       "\n",
       "   year  month  \n",
       "0  2015      1  \n",
       "1  2015      1  \n",
       "2  2015      1  \n",
       "3  2015      1  \n",
       "4  2015      1  \n",
       "5  2015      1  \n",
       "6  2015      1  \n",
       "7  2015      1  \n",
       "8  2015      1  \n",
       "9  2015      1  "
      ]
     },
     "execution_count": 3,
     "metadata": {},
     "output_type": "execute_result"
    }
   ],
   "source": [
    "data.head(10)"
   ]
  },
  {
   "cell_type": "code",
   "execution_count": 4,
   "id": "874028a8-923a-4a42-b12a-051feb72ed35",
   "metadata": {},
   "outputs": [
    {
     "data": {
      "text/plain": [
       "order_id            21350\n",
       "date                  358\n",
       "time                16382\n",
       "order_details_id    48620\n",
       "pizza_id               91\n",
       "quantity                4\n",
       "pizza_type_id          32\n",
       "size                    5\n",
       "price                  25\n",
       "name                   32\n",
       "category                4\n",
       "ingredients            32\n",
       "day                     7\n",
       "hour                   15\n",
       "new_time_again      16382\n",
       "year                    1\n",
       "month                  12\n",
       "dtype: int64"
      ]
     },
     "execution_count": 4,
     "metadata": {},
     "output_type": "execute_result"
    }
   ],
   "source": [
    "data.nunique()"
   ]
  },
  {
   "cell_type": "code",
   "execution_count": 5,
   "id": "4951379d-98ce-479e-8def-270b12534e09",
   "metadata": {},
   "outputs": [
    {
     "name": "stdout",
     "output_type": "stream",
     "text": [
      "<class 'pandas.core.frame.DataFrame'>\n",
      "RangeIndex: 48620 entries, 0 to 48619\n",
      "Data columns (total 17 columns):\n",
      " #   Column            Non-Null Count  Dtype  \n",
      "---  ------            --------------  -----  \n",
      " 0   order_id          48620 non-null  int64  \n",
      " 1   date              48620 non-null  object \n",
      " 2   time              48620 non-null  object \n",
      " 3   order_details_id  48620 non-null  int64  \n",
      " 4   pizza_id          48620 non-null  object \n",
      " 5   quantity          48620 non-null  int64  \n",
      " 6   pizza_type_id     48620 non-null  object \n",
      " 7   size              48620 non-null  object \n",
      " 8   price             48620 non-null  float64\n",
      " 9   name              48620 non-null  object \n",
      " 10  category          48620 non-null  object \n",
      " 11  ingredients       48620 non-null  object \n",
      " 12  day               48620 non-null  object \n",
      " 13  hour              48620 non-null  int64  \n",
      " 14  new_time_again    48620 non-null  object \n",
      " 15  year              48620 non-null  int64  \n",
      " 16  month             48620 non-null  int64  \n",
      "dtypes: float64(1), int64(6), object(10)\n",
      "memory usage: 6.3+ MB\n"
     ]
    }
   ],
   "source": [
    "data.info()"
   ]
  },
  {
   "cell_type": "markdown",
   "id": "e8244be8-0b0b-4a1d-9119-2901e8f255df",
   "metadata": {},
   "source": [
    "# change to int\n",
    "new_data.order_id = new_data.order_id.astype(int)\n",
    "new_data.order_details_id = new_data.order_details_id.astype(int)\n",
    "new_data.quantity = new_data.quantity.astype(int)"
   ]
  },
  {
   "cell_type": "code",
   "execution_count": 6,
   "id": "913eebaf-d990-49ba-94bc-90ea9466a72a",
   "metadata": {},
   "outputs": [],
   "source": [
    "data.category = data.category.astype('category')"
   ]
  },
  {
   "cell_type": "code",
   "execution_count": 7,
   "id": "56e6ddb6-5908-4e53-81f8-b59bc668556b",
   "metadata": {},
   "outputs": [],
   "source": [
    "data['size'] = data['size'].astype('category')"
   ]
  },
  {
   "cell_type": "code",
   "execution_count": 8,
   "id": "7ed4010e-0f9c-44f7-9a2a-cd78c153fa3e",
   "metadata": {},
   "outputs": [],
   "source": [
    "# change column from object to date\n",
    "data.date = pd.to_datetime(data.date)"
   ]
  },
  {
   "cell_type": "code",
   "execution_count": 9,
   "id": "fe1b829b-ab4c-4eb7-8f27-e1716b3e6a0b",
   "metadata": {},
   "outputs": [],
   "source": [
    "# change column time from object to datetime\n",
    "data.time = pd.to_datetime(data.time)"
   ]
  },
  {
   "cell_type": "markdown",
   "id": "d6750704-83eb-4eb5-bdce-8ec913c79305",
   "metadata": {},
   "source": [
    "# Analysis Questions"
   ]
  },
  {
   "cell_type": "markdown",
   "id": "14df3a73-247a-4eaa-ac50-fe950be10497",
   "metadata": {},
   "source": [
    "## Structure of the dataset\n",
    "> The dataset contains 48620 rows and 17 columns"
   ]
  },
  {
   "cell_type": "markdown",
   "id": "84d5952b-31c5-40cc-af91-906fd0999cef",
   "metadata": {},
   "source": [
    "## What are the main features of interest in the dataset\n",
    "* Month\n",
    "* Type of pizza\n",
    "* Quantity\n",
    "* size"
   ]
  },
  {
   "cell_type": "markdown",
   "id": "dec63e58-58e6-4564-8ede-cebc2863502c",
   "metadata": {},
   "source": [
    "What size of Pizza sells more"
   ]
  },
  {
   "cell_type": "markdown",
   "id": "320bb420-e42a-4ba4-902c-8f8e0d971584",
   "metadata": {},
   "source": [
    "What are the sales of each month"
   ]
  },
  {
   "cell_type": "markdown",
   "id": "d8617d7a-1859-488f-a483-fd12e3de4820",
   "metadata": {},
   "source": []
  },
  {
   "cell_type": "code",
   "execution_count": 10,
   "id": "a5e348e4-6a94-4954-9b81-bfa8e8c24ef2",
   "metadata": {},
   "outputs": [],
   "source": [
    "def PiePlots(feature, mtitle):\n",
    "    sorted_counts = feature.value_counts();\n",
    "    plt.pie(sorted_counts, labels = sorted_counts.index, startangle = 90, counterclock = False, autopct='1.2%%');\n",
    "    plt.title(mtitle, fontsize = 15);"
   ]
  },
  {
   "cell_type": "code",
   "execution_count": 12,
   "id": "1b2f2491-93c2-4864-b2ca-6ed9b768067c",
   "metadata": {},
   "outputs": [],
   "source": [
    "def CountPlots(df, xVar):\n",
    "    base_color = sb.color_palette()[0]\n",
    "    plt.figure(figsize = [14,8])\n",
    "    sb.countplot(data = df, x = xVar, edgecolor = 'black', color=base_color);\n",
    "    plt.title(f'''Distribution of {xVar}'''.title(), fontsize = 14, weight = 'bold')\n",
    "    plt.xlabel(xVar.title(), fontsize = 10, weight = 'bold')\n",
    "    plt.ylabel('Frequency'.title(), fontsize = 10, weight = 'bold')"
   ]
  },
  {
   "cell_type": "code",
   "execution_count": null,
   "id": "31e128b5-ae04-42c3-a1f3-9fc4b4d39d02",
   "metadata": {},
   "outputs": [],
   "source": []
  },
  {
   "cell_type": "markdown",
   "id": "0d647098-89ff-40ba-bdb2-57f92f5fd984",
   "metadata": {
    "tags": []
   },
   "source": [
    "## Univariate Exploration\n",
    "> In this section, investigate distributions of individual variables. If you see unusual points or outliers, take a deeper look to clean things up and prepare yourself to look at relationships between variables."
   ]
  },
  {
   "cell_type": "code",
   "execution_count": null,
   "id": "dc3867d6-8c07-4c01-aba4-b133ee7a8ac5",
   "metadata": {},
   "outputs": [],
   "source": []
  },
  {
   "cell_type": "code",
   "execution_count": null,
   "id": "29eace8b-2997-47b3-8e09-05eac5ea4a9c",
   "metadata": {},
   "outputs": [],
   "source": []
  },
  {
   "cell_type": "markdown",
   "id": "1459243c-0773-45fc-bace-e9a083db9f9f",
   "metadata": {},
   "source": [
    "## Distribution of orders over the months"
   ]
  },
  {
   "cell_type": "code",
   "execution_count": 15,
   "id": "fa6f117e-323f-4ad3-815b-99650c1dfe2c",
   "metadata": {},
   "outputs": [
    {
     "data": {
      "image/png": "[encoded data removed]",
      "text/plain": [
       "<Figure size 1400x800 with 1 Axes>"
      ]
     },
     "metadata": {},
     "output_type": "display_data"
    }
   ],
   "source": [
    "CountPlots(data, 'month')"
   ]
  },
  {
   "cell_type": "code",
   "execution_count": null,
   "id": "e355bf25-6b3d-4799-be37-ad57365adfaa",
   "metadata": {},
   "outputs": [],
   "source": []
  },
  {
   "cell_type": "code",
   "execution_count": null,
   "id": "6d3f03ff-2d8c-4106-86c2-18b923cf6321",
   "metadata": {},
   "outputs": [],
   "source": []
  },
  {
   "cell_type": "code",
   "execution_count": null,
   "id": "336e2794-985c-4953-bb64-f10cef06aa43",
   "metadata": {},
   "outputs": [],
   "source": []
  },
  {
   "cell_type": "markdown",
   "id": "31c7cc94-8751-4955-ace1-17bcd4a7d5b9",
   "metadata": {},
   "source": [
    "## Distribution of oders on different sizes"
   ]
  },
  {
   "cell_type": "code",
   "execution_count": 13,
   "id": "7628d1d2-3c98-4dab-9fd3-c215e5cf32b8",
   "metadata": {},
   "outputs": [
    {
     "data": {
      "image/png": "[encoded data removed]",
      "text/plain": [
       "<Figure size 1400x800 with 1 Axes>"
      ]
     },
     "metadata": {},
     "output_type": "display_data"
    }
   ],
   "source": [
    "CountPlots(data, 'size')"
   ]
  },
  {
   "cell_type": "code",
   "execution_count": 14,
   "id": "4d73f5b8-c4f6-4f0c-83d6-4e5f06c4cc72",
   "metadata": {},
   "outputs": [
    {
     "data": {
      "image/png": "[encoded data removed]",
      "text/plain": [
       "<Figure size 640x480 with 1 Axes>"
      ]
     },
     "metadata": {},
     "output_type": "display_data"
    }
   ],
   "source": [
    "size = data['size']\n",
    "PiePlots(size,\"Pizza sales by size\")"
   ]
  },
  {
   "cell_type": "code",
   "execution_count": null,
   "id": "8e7c3837-6274-460a-94a7-b3f83f8bfda5",
   "metadata": {},
   "outputs": [],
   "source": []
  },
  {
   "cell_type": "code",
   "execution_count": null,
   "id": "208065f3-e539-4143-829e-eb2e2788a89c",
   "metadata": {},
   "outputs": [],
   "source": []
  },
  {
   "cell_type": "markdown",
   "id": "b21502eb-3a30-477a-89d9-9113fd5fd751",
   "metadata": {},
   "source": [
    "## Bivariate Exploration"
   ]
  },
  {
   "cell_type": "code",
   "execution_count": null,
   "id": "c653d692-6355-4310-86fd-5435e25318ba",
   "metadata": {},
   "outputs": [],
   "source": []
  },
  {
   "cell_type": "code",
   "execution_count": null,
   "id": "37a3f8f2-1e98-4018-80a1-dda9b7f63893",
   "metadata": {},
   "outputs": [],
   "source": []
  },
  {
   "cell_type": "code",
   "execution_count": null,
   "id": "9f9b9a1d-6310-4498-b846-c958403fd597",
   "metadata": {},
   "outputs": [],
   "source": []
  },
  {
   "cell_type": "code",
   "execution_count": null,
   "id": "f0e00dba-da69-4c51-9e87-ce595da51484",
   "metadata": {},
   "outputs": [],
   "source": []
  },
  {
   "cell_type": "markdown",
   "id": "71f7fa8b-9f6f-4b09-8d70-b0d1af58feea",
   "metadata": {},
   "source": [
    "## Multivariate Exploration"
   ]
  },
  {
   "cell_type": "code",
   "execution_count": null,
   "id": "7857c6b6-75f8-446c-9707-bcc3a1374ace",
   "metadata": {},
   "outputs": [],
   "source": []
  },
  {
   "cell_type": "code",
   "execution_count": null,
   "id": "d3b9c24f-e8c0-4db7-a645-6973b765e4f8",
   "metadata": {},
   "outputs": [],
   "source": []
  },
  {
   "cell_type": "code",
   "execution_count": null,
   "id": "9eb79e86-f102-4f62-9d3c-1c3305782c79",
   "metadata": {},
   "outputs": [],
   "source": []
  },
  {
   "cell_type": "code",
   "execution_count": null,
   "id": "b2f1d7ca-453d-47c3-b346-55bf60519a85",
   "metadata": {},
   "outputs": [],
   "source": []
  }
 ],
 "metadata": {
  "kernelspec": {
   "display_name": "Python 3 (ipykernel)",
   "language": "python",
   "name": "python3"
  },
  "language_info": {
   "codemirror_mode": {
    "name": "ipython",
    "version": 3
   },
   "file_extension": ".py",
   "mimetype": "text/x-python",
   "name": "python",
   "nbconvert_exporter": "python",
   "pygments_lexer": "ipython3",
   "version": "3.9.13"
  }
 },
 "nbformat": 4,
 "nbformat_minor": 5
}
