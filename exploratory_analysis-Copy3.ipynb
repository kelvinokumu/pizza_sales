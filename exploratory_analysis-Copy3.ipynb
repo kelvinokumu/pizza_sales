{
 "cells": [
  {
   "cell_type": "code",
   "execution_count": 1,
   "id": "5be0fae9-5d26-432a-88d5-c9ee0f022f2f",
   "metadata": {},
   "outputs": [],
   "source": [
    "# import the required packages\n",
    "import numpy as np\n",
    "import pandas as pd\n",
    "import matplotlib.pyplot as plt\n",
    "import seaborn as sb\n",
    "\n",
    "%matplotlib inline"
   ]
  },
  {
   "cell_type": "code",
   "execution_count": 2,
   "id": "9b5098ca-8b7c-48aa-a143-eca90ea32849",
   "metadata": {},
   "outputs": [],
   "source": [
    "# load the data\n",
    "orders = pd.read_csv(\"orders.csv\")\n",
    "order_details = pd.read_csv(\"order_details.csv\")\n",
    "pizza_types = pd.read_csv(\"pizza_types.csv\", encoding= 'unicode_escape')\n",
    "pizzas = pd.read_csv(\"pizzas.csv\", encoding= 'unicode_escape')"
   ]
  },
  {
   "cell_type": "code",
   "execution_count": 3,
   "id": "6e32b6a7-b556-47ea-8804-40b68c0f65d4",
   "metadata": {},
   "outputs": [],
   "source": [
    "new_df = pd.merge(orders, order_details, how='outer')"
   ]
  },
  {
   "cell_type": "code",
   "execution_count": 4,
   "id": "5fbcd3ef-6f83-40e6-90a3-0ed4fd3a8a94",
   "metadata": {
    "tags": []
   },
   "outputs": [],
   "source": [
    "new_df_pizza = pd.merge(pizzas, pizza_types, how='outer')"
   ]
  },
  {
   "cell_type": "code",
   "execution_count": 5,
   "id": "facd921c-ed29-4d54-b39a-fa324ba80429",
   "metadata": {},
   "outputs": [],
   "source": [
    "new_df_final = pd.merge(new_df, new_df_pizza, how='outer')"
   ]
  },
  {
   "cell_type": "code",
   "execution_count": null,
   "id": "0ae37ec0-7d56-4f3f-87c8-53986deae384",
   "metadata": {},
   "outputs": [],
   "source": []
  }
 ],
 "metadata": {
  "kernelspec": {
   "display_name": "Python 3 (ipykernel)",
   "language": "python",
   "name": "python3"
  },
  "language_info": {
   "codemirror_mode": {
    "name": "ipython",
    "version": 3
   },
   "file_extension": ".py",
   "mimetype": "text/x-python",
   "name": "python",
   "nbconvert_exporter": "python",
   "pygments_lexer": "ipython3",
   "version": "3.9.13"
  }
 },
 "nbformat": 4,
 "nbformat_minor": 5
}
